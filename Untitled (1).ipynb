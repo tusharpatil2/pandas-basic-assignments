{
 "cells": [
  {
   "cell_type": "markdown",
   "id": "94464ec1-a148-451a-b655-c9b784e2d8c7",
   "metadata": {},
   "source": [
    "Q1. Create a Pandas Series that contains the following data: 4, 8, 15, 16, 23, and 42. Then, print\n",
    "the series."
   ]
  },
  {
   "cell_type": "code",
   "execution_count": 1,
   "id": "51d203f6-c27b-4b89-af3f-010fa72a842c",
   "metadata": {},
   "outputs": [
    {
     "name": "stdout",
     "output_type": "stream",
     "text": [
      "0     4\n",
      "1     8\n",
      "2    15\n",
      "3    16\n",
      "4    23\n",
      "5    42\n",
      "dtype: int64\n"
     ]
    }
   ],
   "source": [
    "import pandas as pd\n",
    "# Create a Pandas Series\n",
    "series = pd.Series([4, 8, 15, 16, 23, 42])\n",
    "# Print the series\n",
    "print(series)"
   ]
  },
  {
   "cell_type": "markdown",
   "id": "ade889d6-7c92-4113-81d7-095aa8d87d37",
   "metadata": {},
   "source": [
    "Q2. Create a variable of list type containing 10 elements in it, and apply pandas.Series function\n",
    "on the varaiable print it\n"
   ]
  },
  {
   "cell_type": "code",
   "execution_count": 2,
   "id": "feaefe53-2922-4433-97a1-b281a5dc00a7",
   "metadata": {},
   "outputs": [
    {
     "name": "stdout",
     "output_type": "stream",
     "text": [
      "0     10\n",
      "1     20\n",
      "2     30\n",
      "3     40\n",
      "4     50\n",
      "5     60\n",
      "6     70\n",
      "7     80\n",
      "8     90\n",
      "9    100\n",
      "dtype: int64\n"
     ]
    }
   ],
   "source": [
    "import pandas as pd\n",
    "my_list = [10, 20, 30, 40, 50, 60, 70, 80, 90, 100]\n",
    "my_series = pd.Series(my_list)\n",
    "print(my_series)"
   ]
  },
  {
   "cell_type": "markdown",
   "id": "9288dfe2-0c4c-4ba6-8794-ff16e2edbc81",
   "metadata": {},
   "source": [
    "q.3 create a pandas dataframes that caontains the following data Name Alice Bob Claire\n",
    "Age 25 30 27\n",
    "Gender Female Male Female"
   ]
  },
  {
   "cell_type": "code",
   "execution_count": 3,
   "id": "2298d286-48cc-4210-bba0-c69586d3c344",
   "metadata": {},
   "outputs": [
    {
     "name": "stdout",
     "output_type": "stream",
     "text": [
      "     Name  Age  Gender\n",
      "0   Alice   25  Female\n",
      "1     Bob   30    Male\n",
      "2  Claire   27  Female\n"
     ]
    }
   ],
   "source": [
    "import pandas as pd\n",
    "# Create the data as a dictionary\n",
    "data = {\n",
    "'Name': ['Alice', 'Bob', 'Claire'],\n",
    "'Age': [25, 30, 27],\n",
    "'Gender': ['Female', 'Male', 'Female']\n",
    "}\n",
    "# Create a DataFrame from the dictionary\n",
    "df = pd.DataFrame(data)\n",
    "# Print the DataFrame\n",
    "print(df)"
   ]
  },
  {
   "cell_type": "markdown",
   "id": "701aeac9-5368-48ae-bef1-52ab4d1e84d3",
   "metadata": {},
   "source": [
    "Q4. What is ‘DataFrame’ in pandas and how is it different from pandas.series? Explain with an\n",
    "example.\n",
    "in Pandas, a DataFrame is a two-dimensional labeled data structure with columns of potentially\n",
    "different types. It is essentially a table with rows and columns, where each column can be thought\n",
    "of as a Pandas Series. The difference between a Pandas Series and a Pandas DataFrame is that\n",
    "a Series represents a single column of data, while a DataFrame is a table of data with multiple columns"
   ]
  },
  {
   "cell_type": "code",
   "execution_count": 5,
   "id": "3b958ec5-a973-4d0d-8ed9-e970e9e08254",
   "metadata": {},
   "outputs": [
    {
     "name": "stdout",
     "output_type": "stream",
     "text": [
      "Series:\n",
      "0    1\n",
      "1    2\n",
      "2    3\n",
      "3    4\n",
      "4    5\n",
      "dtype: int64\n",
      "\n",
      "DataFrame:\n",
      "   A   B\n",
      "0  1  10\n",
      "1  2  20\n",
      "2  3  30\n",
      "3  4  40\n",
      "4  5  50\n"
     ]
    }
   ],
   "source": [
    "import pandas as pd\n",
    "# Create a Series\n",
    "s = pd.Series([1, 2, 3, 4, 5])\n",
    "# Create a DataFrame\n",
    "df = pd.DataFrame({'A': [1, 2, 3, 4, 5], 'B': [10, 20, 30, 40, 50]})\n",
    "# Print the Series and DataFrame\n",
    "print('Series:')\n",
    "print(s)\n",
    "print('\\nDataFrame:')\n",
    "print (df)"
   ]
  },
  {
   "cell_type": "markdown",
   "id": "a808afa2-7c5e-4c69-b609-5eb4e0a3a2fa",
   "metadata": {},
   "source": [
    "Q.4 What are some common functions you can use to manipulate data in a Pandas DataFrame?\n",
    "Can you give an example of when you might use one of these functions?"
   ]
  },
  {
   "cell_type": "markdown",
   "id": "c78d1288-0aa3-42fe-9c3a-b0eb8c23b0e1",
   "metadata": {},
   "source": [
    "Pandas DataFrame is a powerful tool for data manipulation and analysis. Here are some common\n",
    "functions that you can use to manipulate data in a Pandas DataFrame:\n",
    "head() and tail(): These functions allow you to display the first or last few rows of your DataFrame.\n",
    "For example, if you have a large dataset and want to get a quick view of what your data looks like,\n",
    "you can use head() function to display the first few rows.\n",
    "describe(): This function provides statistical information about the data in your DataFrame. It\n",
    "returns the count, mean, standard deviation, minimum, maximum, and quartiles for each numeric\n",
    "column.\n",
    "info(): This function provides information about the data types, null values, and memory usage of\n",
    "each column in the DataFrame.\n",
    "drop(): This function allows you to drop one or more columns or rows from your DataFrame. For\n",
    "example, if you have a column that is not relevant to your analysis, you can drop it using the drop()\n",
    "function.\n",
    "groupby(): This function groups the data in your DataFrame based on one or more columns, and\n",
    "then allows you to perform operations on the groups. For example, if you have a sales dataset and\n",
    "want to group the data by product type, you can use groupby() function to group the data by\n",
    "product type and then calculate the total sales for each product.\n",
    "pivot_table(): This function allows you to summarize your data by creating a pivot table. For\n",
    "example, if you have a sales dataset and want to summarize the sales by product type and region,\n",
    "you can use pivot_table() function to create a pivot table that shows the total sales for each product\n",
    "type and region.\n",
    "apply(): This function applies a function to each element in a column or row of your DataFrame.\n",
    "For example, if you have a column that contains strings and want to convert them to uppercase,\n",
    "you can use apply() function to apply the str.upper() function to each element in the columns\n",
    "                  merge(): This function allows you to merge two or more DataFrames based on a common column\n",
    "or index. For example, if you have a sales dataset and a customer dataset, you can use merge()\n",
    "function to merge the two datasets based on the common customer ID column.\n",
    "sort_values(): This function sorts the data in your DataFrame based on one or more columns. For\n",
    "example, if you have a sales dataset and want to sort the data by product type and then by sales\n",
    "in descending order, you can use sort_values() function to sort the data based on the product type\n",
    "and then the sales column in descending order.\n",
    "fillna(): This function allows you to fill null or missing values in your DataFrame with a specified\n",
    "value or method. For example, if you have a column that contains null values and want to replace\n",
    "them with the average value of the column, you can use fillna() function to fill the null values with\n",
    "the mean value of the column.\n",
    "These are just some of the common functions that you can use to manipulate data in a Pandas\n",
    "DataFrame. The specific function that you would use depends on the specific problem you are\n",
    "trying to solve or the analysis you are trying to perform.\n",
    "Which of the following is mutable in nature Series, DataFrame, Panel?\n",
    "in Pandas, Series and DataFrame are mutable in nature, whereas Panel is immutable.\n",
    "A mutable object is an object whose value or state can be modified after it is created. For example,\n",
    "you can change the values of a Series or DataFrame after they are created using methods like loc or\n",
    "iloc. On the other hand, an immutable object is an object whose value or state cannot be changed\n",
    "after it is created. Panel was an important data structure in earlier versions of Pandas, but it is\n",
    "now deprecated and replaced by MultiIndex dataframes, which are also mutable.\n",
    "Create a DataFrame using multiple Series. Explain with an example.\n",
    "to create a DataFrame using multiple Series, we can use the pd.DataFrame() function in Pandas,\n",
    "where we pass a dictionary containing the Series as key-value pairs, with each key representing a\n",
    "column name and each value representing the Series."
   ]
  },
  {
   "cell_type": "code",
   "execution_count": null,
   "id": "9aba5988-115d-4f24-81f2-72936d368adf",
   "metadata": {},
   "outputs": [],
   "source": [
    "import pandas as pd\n",
    "# Create three Series with sample data\n",
    "names = pd.Series(['John', 'Mike', 'Sara', 'Jessie'])\n",
    "ages = pd.Series([25, 30, 28, 32])\n",
    "genders = pd.Series(['M', 'M', 'F', 'F'])\n",
    "# Create a DataFrame using the above Series\n",
    "df = pd.DataFrame({'Name': names, 'Age': ages, 'Gender': genders})\n",
    "# Print the resulting DataFrame\n",
    "print(df)"
   ]
  }
 ],
 "metadata": {
  "kernelspec": {
   "display_name": "Python 3 (ipykernel)",
   "language": "python",
   "name": "python3"
  },
  "language_info": {
   "codemirror_mode": {
    "name": "ipython",
    "version": 3
   },
   "file_extension": ".py",
   "mimetype": "text/x-python",
   "name": "python",
   "nbconvert_exporter": "python",
   "pygments_lexer": "ipython3",
   "version": "3.10.8"
  }
 },
 "nbformat": 4,
 "nbformat_minor": 5
}
